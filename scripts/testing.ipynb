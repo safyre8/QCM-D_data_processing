{
 "cells": [
  {
   "cell_type": "code",
   "execution_count": 7,
   "id": "initial_id",
   "metadata": {
    "collapsed": true,
    "ExecuteTime": {
     "end_time": "2024-01-05T11:58:39.254031100Z",
     "start_time": "2024-01-05T11:58:39.220682200Z"
    }
   },
   "outputs": [
    {
     "ename": "FileNotFoundError",
     "evalue": "[WinError 3] The system cannot find the path specified: 'C:\\\\Program Files\\\\JetBrains\\\\PyCharm 2023.2\\\\plugins\\\\python\\\\helpers\\\\pydev\\\\data'",
     "output_type": "error",
     "traceback": [
      "\u001B[1;31m---------------------------------------------------------------------------\u001B[0m",
      "\u001B[1;31mFileNotFoundError\u001B[0m                         Traceback (most recent call last)",
      "Cell \u001B[1;32mIn[7], line 7\u001B[0m\n\u001B[0;32m      4\u001B[0m \u001B[38;5;28;01mimport\u001B[39;00m \u001B[38;5;21;01mpandas\u001B[39;00m \u001B[38;5;28;01mas\u001B[39;00m \u001B[38;5;21;01mpd\u001B[39;00m\n\u001B[0;32m      6\u001B[0m \u001B[38;5;66;03m# from scripts.load_data import load_data\u001B[39;00m\n\u001B[1;32m----> 7\u001B[0m \u001B[38;5;28;01mfrom\u001B[39;00m \u001B[38;5;21;01mscripts\u001B[39;00m\u001B[38;5;21;01m.\u001B[39;00m\u001B[38;5;21;01mprocessing\u001B[39;00m \u001B[38;5;28;01mimport\u001B[39;00m single_experiment_processed\n\u001B[0;32m      8\u001B[0m \u001B[38;5;28;01mfrom\u001B[39;00m \u001B[38;5;21;01mscripts\u001B[39;00m\u001B[38;5;21;01m.\u001B[39;00m\u001B[38;5;21;01manalysis\u001B[39;00m \u001B[38;5;28;01mimport\u001B[39;00m soft_p\n\u001B[0;32m      9\u001B[0m \u001B[38;5;66;03m# qcm_dir, note_dir = load_data(\"data\")\u001B[39;00m\n\u001B[0;32m     10\u001B[0m \u001B[38;5;66;03m# \u001B[39;00m\n",
      "File \u001B[1;32m~\\Documents\\GitHub\\QCM-D_data_processing\\scripts\\processing.py:13\u001B[0m\n\u001B[0;32m      3\u001B[0m \u001B[38;5;28;01mfrom\u001B[39;00m \u001B[38;5;21;01mscripts\u001B[39;00m\u001B[38;5;21;01m.\u001B[39;00m\u001B[38;5;21;01mload_data\u001B[39;00m \u001B[38;5;28;01mimport\u001B[39;00m load_data\n\u001B[0;32m      5\u001B[0m \u001B[38;5;66;03m# TODO: make it so that all the chambers can be pulled out\u001B[39;00m\n\u001B[0;32m      6\u001B[0m \u001B[38;5;66;03m# TODO: make a directory to save all these files. Then average them.\u001B[39;00m\n\u001B[0;32m      7\u001B[0m \u001B[38;5;66;03m# TODO: can I make a table with all the saved information about the chambers.\u001B[39;00m\n\u001B[0;32m      8\u001B[0m \u001B[38;5;66;03m# TODO: GTP +/- ; SEPT (HEX/OCT) ; SOFTNESS PARAMETER; BINDING KINETICS ; THICKNESS; AMD (QCM-D)\u001B[39;00m\n\u001B[0;32m      9\u001B[0m \u001B[38;5;66;03m# TODO: make sure that the headers are saved in the equialibrium file\u001B[39;00m\n\u001B[0;32m     10\u001B[0m \u001B[38;5;66;03m# TODO: do all the data for the datasets\u001B[39;00m\n\u001B[1;32m---> 13\u001B[0m qcm_dir, note_dir \u001B[38;5;241m=\u001B[39m \u001B[43mload_data\u001B[49m\u001B[43m(\u001B[49m\u001B[38;5;124;43m\"\u001B[39;49m\u001B[38;5;124;43mdata\u001B[39;49m\u001B[38;5;124;43m\"\u001B[39;49m\u001B[43m)\u001B[49m\n\u001B[0;32m     15\u001B[0m \u001B[38;5;66;03m# Set variables for the (c) chamber:int and (n) overtone:int\u001B[39;00m\n\u001B[0;32m     17\u001B[0m \u001B[38;5;28;01mclass\u001B[39;00m \u001B[38;5;21;01msingle_experiment_processed\u001B[39;00m:\n",
      "File \u001B[1;32m~\\Documents\\GitHub\\QCM-D_data_processing\\scripts\\load_data.py:10\u001B[0m, in \u001B[0;36mload_data\u001B[1;34m(folder_dir)\u001B[0m\n\u001B[0;32m      9\u001B[0m \u001B[38;5;28;01mdef\u001B[39;00m \u001B[38;5;21mload_data\u001B[39m(folder_dir):\n\u001B[1;32m---> 10\u001B[0m     all_files \u001B[38;5;241m=\u001B[39m \u001B[43mos\u001B[49m\u001B[38;5;241;43m.\u001B[39;49m\u001B[43mlistdir\u001B[49m\u001B[43m(\u001B[49m\u001B[43mos\u001B[49m\u001B[38;5;241;43m.\u001B[39;49m\u001B[43mpath\u001B[49m\u001B[38;5;241;43m.\u001B[39;49m\u001B[43mnormpath\u001B[49m\u001B[43m(\u001B[49m\u001B[43msys\u001B[49m\u001B[38;5;241;43m.\u001B[39;49m\u001B[43mpath\u001B[49m\u001B[43m[\u001B[49m\u001B[38;5;241;43m1\u001B[39;49m\u001B[43m]\u001B[49m\u001B[43m \u001B[49m\u001B[38;5;241;43m+\u001B[39;49m\u001B[43m \u001B[49m\u001B[38;5;124;43m\"\u001B[39;49m\u001B[38;5;124;43m/\u001B[39;49m\u001B[38;5;124;43m\"\u001B[39;49m\u001B[43m \u001B[49m\u001B[38;5;241;43m+\u001B[39;49m\u001B[43m \u001B[49m\u001B[43mfolder_dir\u001B[49m\u001B[43m)\u001B[49m\u001B[43m)\u001B[49m  \u001B[38;5;66;03m# check that the system path is correct\u001B[39;00m\n\u001B[0;32m     12\u001B[0m     \u001B[38;5;66;03m# check the number of files with the tags\u001B[39;00m\n\u001B[0;32m     13\u001B[0m     note_files \u001B[38;5;241m=\u001B[39m \u001B[38;5;28mlist\u001B[39m(\u001B[38;5;28mfilter\u001B[39m(\u001B[38;5;28;01mlambda\u001B[39;00m f: f\u001B[38;5;241m.\u001B[39mendswith(\u001B[38;5;124m'\u001B[39m\u001B[38;5;124m_notes.csv\u001B[39m\u001B[38;5;124m'\u001B[39m), all_files))\n",
      "\u001B[1;31mFileNotFoundError\u001B[0m: [WinError 3] The system cannot find the path specified: 'C:\\\\Program Files\\\\JetBrains\\\\PyCharm 2023.2\\\\plugins\\\\python\\\\helpers\\\\pydev\\\\data'"
     ]
    }
   ],
   "source": [
    "import os\n",
    "import sys\n",
    "import numpy as np\n",
    "import pandas as pd\n",
    "\n",
    "# from scripts.load_data import load_data\n",
    "from scripts.processing import single_experiment_processed\n",
    "from scripts.analysis import soft_p\n",
    "# qcm_dir, note_dir = load_data(\"data\")\n",
    "# \n"
   ]
  },
  {
   "cell_type": "code",
   "execution_count": 8,
   "outputs": [
    {
     "ename": "NameError",
     "evalue": "name 'qcm_dir' is not defined",
     "output_type": "error",
     "traceback": [
      "\u001B[1;31m---------------------------------------------------------------------------\u001B[0m",
      "\u001B[1;31mNameError\u001B[0m                                 Traceback (most recent call last)",
      "Cell \u001B[1;32mIn[8], line 1\u001B[0m\n\u001B[1;32m----> 1\u001B[0m \u001B[38;5;28mprint\u001B[39m(\u001B[38;5;28mlist\u001B[39m(\u001B[43mqcm_dir\u001B[49m))\n",
      "\u001B[1;31mNameError\u001B[0m: name 'qcm_dir' is not defined"
     ]
    }
   ],
   "source": [
    "print(list(qcm_dir))"
   ],
   "metadata": {
    "collapsed": false,
    "ExecuteTime": {
     "end_time": "2024-01-05T11:58:40.160296800Z",
     "start_time": "2024-01-05T11:58:40.146294500Z"
    }
   },
   "id": "8c04d5caeed33824"
  },
  {
   "cell_type": "code",
   "execution_count": 9,
   "outputs": [],
   "source": [
    "def load_data(folder_dir):\n",
    "    all_files = os.listdir(os.path.normpath(sys.path[1] + \"/\" + folder_dir))  # check that the system path is correct\n",
    "\n",
    "    # check the number of files with the tags\n",
    "    note_files = list(filter(lambda f: f.endswith('_notes.csv'), all_files))\n",
    "    qcm_txt_files = list(filter(lambda f: f.endswith('_slb.csv'), all_files))\n",
    "    num_note_files = len(note_files)\n",
    "    num_qcm_files = len(qcm_txt_files)\n",
    "    print(\"==== Found {} QCM-D and {} note file(s) in {} folder! ====\".format(num_qcm_files, num_note_files, folder_dir))\n",
    "\n",
    "    qcm_dir = {}  # tag slb is for the support lipid bilayer\n",
    "    note_dir = {}  # tag note is for the notes taken during the experiments\n",
    "\n",
    "    # goes through the files in the data folder to add them to the empty directories above\n",
    "    for file_name in all_files:\n",
    "        if file_name.endswith(\"_slb.csv\"):\n",
    "            q_data_table = pd.read_csv(os.path.join(folder_dir, file_name), delimiter=\",\")\n",
    "            qcm_dir[file_name] = q_data_table\n",
    "            # for key in qcm_dir.keys():\n",
    "            #     print(key)\n",
    "            #     # print(qcm_dir[key].head(1))\n",
    "            # print()\n",
    "\n",
    "        if file_name.endswith(\"_notes.csv\"):\n",
    "            n_data_table = pd.read_csv(os.path.join(folder_dir, file_name), delimiter=\",\")\n",
    "            note_dir[file_name] = n_data_table\n",
    "\n",
    "    # checks the number of files in the directories to be able to compare to the number of files in the data folder\n",
    "    num_qcm_dir = len(qcm_dir)\n",
    "    num_note_dir = len(note_dir)\n",
    "    print(\"==== Found {} QCM-D and {} note file(s) in the directories! ====\".format(num_qcm_dir, num_note_dir))\n",
    "\n",
    "    return qcm_dir, note_dir"
   ],
   "metadata": {
    "collapsed": false,
    "ExecuteTime": {
     "end_time": "2024-01-05T11:58:40.462783800Z",
     "start_time": "2024-01-05T11:58:40.459275300Z"
    }
   },
   "id": "bf4782ae91deb66b"
  },
  {
   "cell_type": "code",
   "execution_count": 10,
   "outputs": [
    {
     "ename": "FileNotFoundError",
     "evalue": "[WinError 3] The system cannot find the path specified: 'C:\\\\Program Files\\\\JetBrains\\\\PyCharm 2023.2\\\\plugins\\\\python\\\\helpers\\\\pydev\\\\data'",
     "output_type": "error",
     "traceback": [
      "\u001B[1;31m---------------------------------------------------------------------------\u001B[0m",
      "\u001B[1;31mFileNotFoundError\u001B[0m                         Traceback (most recent call last)",
      "Cell \u001B[1;32mIn[10], line 1\u001B[0m\n\u001B[1;32m----> 1\u001B[0m \u001B[43mload_data\u001B[49m\u001B[43m(\u001B[49m\u001B[38;5;124;43m\"\u001B[39;49m\u001B[38;5;124;43mdata\u001B[39;49m\u001B[38;5;124;43m\"\u001B[39;49m\u001B[43m)\u001B[49m\n",
      "Cell \u001B[1;32mIn[9], line 2\u001B[0m, in \u001B[0;36mload_data\u001B[1;34m(folder_dir)\u001B[0m\n\u001B[0;32m      1\u001B[0m \u001B[38;5;28;01mdef\u001B[39;00m \u001B[38;5;21mload_data\u001B[39m(folder_dir):\n\u001B[1;32m----> 2\u001B[0m     all_files \u001B[38;5;241m=\u001B[39m \u001B[43mos\u001B[49m\u001B[38;5;241;43m.\u001B[39;49m\u001B[43mlistdir\u001B[49m\u001B[43m(\u001B[49m\u001B[43mos\u001B[49m\u001B[38;5;241;43m.\u001B[39;49m\u001B[43mpath\u001B[49m\u001B[38;5;241;43m.\u001B[39;49m\u001B[43mnormpath\u001B[49m\u001B[43m(\u001B[49m\u001B[43msys\u001B[49m\u001B[38;5;241;43m.\u001B[39;49m\u001B[43mpath\u001B[49m\u001B[43m[\u001B[49m\u001B[38;5;241;43m1\u001B[39;49m\u001B[43m]\u001B[49m\u001B[43m \u001B[49m\u001B[38;5;241;43m+\u001B[39;49m\u001B[43m \u001B[49m\u001B[38;5;124;43m\"\u001B[39;49m\u001B[38;5;124;43m/\u001B[39;49m\u001B[38;5;124;43m\"\u001B[39;49m\u001B[43m \u001B[49m\u001B[38;5;241;43m+\u001B[39;49m\u001B[43m \u001B[49m\u001B[43mfolder_dir\u001B[49m\u001B[43m)\u001B[49m\u001B[43m)\u001B[49m  \u001B[38;5;66;03m# check that the system path is correct\u001B[39;00m\n\u001B[0;32m      4\u001B[0m     \u001B[38;5;66;03m# check the number of files with the tags\u001B[39;00m\n\u001B[0;32m      5\u001B[0m     note_files \u001B[38;5;241m=\u001B[39m \u001B[38;5;28mlist\u001B[39m(\u001B[38;5;28mfilter\u001B[39m(\u001B[38;5;28;01mlambda\u001B[39;00m f: f\u001B[38;5;241m.\u001B[39mendswith(\u001B[38;5;124m'\u001B[39m\u001B[38;5;124m_notes.csv\u001B[39m\u001B[38;5;124m'\u001B[39m), all_files))\n",
      "\u001B[1;31mFileNotFoundError\u001B[0m: [WinError 3] The system cannot find the path specified: 'C:\\\\Program Files\\\\JetBrains\\\\PyCharm 2023.2\\\\plugins\\\\python\\\\helpers\\\\pydev\\\\data'"
     ]
    }
   ],
   "source": [
    "load_data(\"data\")"
   ],
   "metadata": {
    "collapsed": false,
    "ExecuteTime": {
     "end_time": "2024-01-05T11:58:41.191473200Z",
     "start_time": "2024-01-05T11:58:41.167980400Z"
    }
   },
   "id": "68535adfa5b1cc34"
  },
  {
   "cell_type": "code",
   "execution_count": 5,
   "outputs": [
    {
     "ename": "NameError",
     "evalue": "name 'single_experiment_processed' is not defined",
     "output_type": "error",
     "traceback": [
      "\u001B[1;31m---------------------------------------------------------------------------\u001B[0m",
      "\u001B[1;31mNameError\u001B[0m                                 Traceback (most recent call last)",
      "Cell \u001B[1;32mIn[5], line 4\u001B[0m\n\u001B[0;32m      1\u001B[0m filename \u001B[38;5;241m=\u001B[39m \u001B[38;5;124m\"\u001B[39m\u001B[38;5;124m20230718_qcm_sept_slb.csv\u001B[39m\u001B[38;5;124m\"\u001B[39m\n\u001B[0;32m      2\u001B[0m c \u001B[38;5;241m=\u001B[39m \u001B[38;5;241m1\u001B[39m\n\u001B[1;32m----> 4\u001B[0m sept_run_dir \u001B[38;5;241m=\u001B[39m \u001B[43msingle_experiment_processed\u001B[49m\u001B[38;5;241m.\u001B[39mrun(filename, c)\n\u001B[0;32m      5\u001B[0m soft_runner \u001B[38;5;241m=\u001B[39m soft_p(sept_run_dir[\u001B[38;5;241m3\u001B[39m])\n\u001B[0;32m      6\u001B[0m \u001B[38;5;28mprint\u001B[39m(soft_runner)\n",
      "\u001B[1;31mNameError\u001B[0m: name 'single_experiment_processed' is not defined"
     ]
    }
   ],
   "source": [
    "filename = \"20230718_qcm_sept_slb.csv\"\n",
    "c = 1\n",
    "\n",
    "sept_run_dir = single_experiment_processed.run(filename, c)\n",
    "soft_runner = soft_p(sept_run_dir[3])\n",
    "print(soft_runner)"
   ],
   "metadata": {
    "collapsed": false,
    "ExecuteTime": {
     "end_time": "2024-01-05T11:57:26.678643600Z",
     "start_time": "2024-01-05T11:57:26.662286800Z"
    }
   },
   "id": "feec5848a930a6f8"
  },
  {
   "cell_type": "code",
   "execution_count": null,
   "outputs": [],
   "source": [],
   "metadata": {
    "collapsed": false
   },
   "id": "bea62f9c14e152e3"
  }
 ],
 "metadata": {
  "kernelspec": {
   "display_name": "Python 3",
   "language": "python",
   "name": "python3"
  },
  "language_info": {
   "codemirror_mode": {
    "name": "ipython",
    "version": 2
   },
   "file_extension": ".py",
   "mimetype": "text/x-python",
   "name": "python",
   "nbconvert_exporter": "python",
   "pygments_lexer": "ipython2",
   "version": "2.7.6"
  }
 },
 "nbformat": 4,
 "nbformat_minor": 5
}
