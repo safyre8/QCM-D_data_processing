{
 "cells": [
  {
   "cell_type": "code",
   "execution_count": 17,
   "id": "initial_id",
   "metadata": {
    "collapsed": true,
    "ExecuteTime": {
     "end_time": "2024-01-02T10:48:44.084525Z",
     "start_time": "2024-01-02T10:48:31.887370Z"
    }
   },
   "outputs": [],
   "source": [
    "import os\n",
    "import sys\n",
    "import numpy as np\n",
    "import pandas as pd\n"
   ]
  },
  {
   "cell_type": "code",
   "execution_count": null,
   "outputs": [],
   "source": [],
   "metadata": {
    "collapsed": false
   },
   "id": "c9f69f0bf41ff245"
  },
  {
   "cell_type": "code",
   "execution_count": 49,
   "outputs": [
    {
     "name": "stdout",
     "output_type": "stream",
     "text": [
      "==== Found 4 QCM-D and 1 note file(s) in data! ====\n"
     ]
    }
   ],
   "source": [
    "def load_data(folder_dir):\n",
    "    \"\"\"\" Finds the text files for QCM-D, with tag slb, and note files in the data directory \"\"\"\n",
    "    all_files = os.listdir(os.path.normpath(sys.path[3] + \"/\" + folder_dir))\n",
    "    \n",
    "    note_files = list(filter(lambda f: f.endswith('_notes.txt'), all_files))\n",
    "    qcm_txt_files = list(filter(lambda f: f.endswith('_slb.txt'), all_files))\n",
    "    num_note_files = len(note_files)\n",
    "    num_qcm_files = len(qcm_txt_files)\n",
    "    print(\"==== Found {} QCM-D and {} note file(s) in {}! ====\".format(num_qcm_files, num_note_files, folder_dir))\n",
    "\n",
    "    qcm_dir = [qcm_txt_files]\n",
    "    note_dir = [note_files]\n",
    "    # print(note_dir)\n",
    "    \n",
    "    for file_name in all_files:\n",
    "        if file_name == \"_slb.txt\":\n",
    "            file_path = os.path.join(all_files + file_name)\n",
    "            data_table = pd.read_csv(file_path)\n",
    "            qcm_dir[file_name] = data_table\n",
    "    \n",
    "            print(\"Data for file:\", file_name)\n",
    "            print(qcm_dir[file_name][:4])\n",
    "    \n",
    "    \n",
    "    \n",
    "    # for file_name in all_files:\n",
    "    #     if qcm_txt_files:\n",
    "    #         data_table = np.loadtxt(qcm_txt_files + file_name)\n",
    "    #         qcm_dir[file_name] = data_table\n",
    "    #         \n",
    "    #         for key in qcm_dir.keys():\n",
    "    #             print(key)\n",
    "    #         print(qcm_dir[key].head(4))\n",
    "    #     if note_files:\n",
    "    #         note_table = np.loadtxt(qcm_txt_files + file_name)\n",
    "    #         note_dir[file_name] = note_table\n",
    "    #         \n",
    "    #         for key in note_dir.keys():\n",
    "    #             print(key)\n",
    "    #         print(note_dir[key].head(4))\n",
    "    #     print()\n",
    "\n",
    "\n",
    "    # \n",
    "    # for txt_file in all_files:\n",
    "    #     if qcm_txt_files:\n",
    "    #         np.loadtxt(txt_file)\n",
    "    #         for key in qcm_txt_files.keys():\n",
    "    #             print(key)\n",
    "    #             print(file_d[key].head(4))\n",
    "    #         print()\n",
    "load_data(\"data\")"
   ],
   "metadata": {
    "collapsed": false,
    "ExecuteTime": {
     "end_time": "2024-01-02T13:05:35.800346700Z",
     "start_time": "2024-01-02T13:05:35.775630800Z"
    }
   },
   "id": "dcdfbf9dc188abc6"
  },
  {
   "cell_type": "code",
   "execution_count": 56,
   "outputs": [
    {
     "ename": "SyntaxError",
     "evalue": "invalid syntax (400091789.py, line 18)",
     "output_type": "error",
     "traceback": [
      "\u001B[1;36m  Cell \u001B[1;32mIn[56], line 18\u001B[1;36m\u001B[0m\n\u001B[1;33m    qcm_dir{} = data_table\u001B[0m\n\u001B[1;37m           ^\u001B[0m\n\u001B[1;31mSyntaxError\u001B[0m\u001B[1;31m:\u001B[0m invalid syntax\n"
     ]
    }
   ],
   "source": [
    "def load_data(folder_dir):\n",
    "    all_files = os.listdir(os.path.normpath(sys.path[3] + \"/\" + folder_dir))\n",
    "    \n",
    "    note_files = list(filter(lambda f: f.endswith('_notes.txt'), all_files))\n",
    "    qcm_txt_files = list(filter(lambda f: f.endswith('_slb.txt'), all_files))\n",
    "    \n",
    "    num_note_files = len(note_files)\n",
    "    num_qcm_files = len(qcm_txt_files)\n",
    "    print(\"==== Found {} QCM-D and {} note file(s) in {}! ====\".format(num_qcm_files, num_note_files, folder_dir))\n",
    "\n",
    "    qcm_dir = {}\n",
    "    note_dir = {}\n",
    "    \n",
    "    for file_name in all_files:\n",
    "        if file_name == \"_slb.txt\":\n",
    "            file_path = os.path.join(all_files + file_name)\n",
    "            data_table = np.loadtxt(file_path)\n",
    "            qcm_dir{} = data_table\n",
    "    \n",
    "            print(\"Data for file:\", file_name)\n",
    "            print(qcm_dir[file_name][:4])    \n",
    "        \n",
    "        # if file_name == \"_notes.txt\":\n",
    "            \n",
    "    \n",
    "    \n",
    "    # for file_name in qcm_txt_files:\n",
    "    #     file_path = os.path.join(folder_dir, file_name)\n",
    "    #     data_table = np.loadtxt(file_path)\n",
    "    #     qcm_dir[file_name] = data_table\n",
    "    # \n",
    "    #     print(\"Data for file:\", file_name)\n",
    "    #     print(qcm_dir[file_name][:4])\n",
    "    # \n",
    "    # for file_name in note_files:\n",
    "    #     file_path = os.path.join(folder_dir, file_name)\n",
    "    #     data_table = np.loadtxt(file_path)\n",
    "    #     note_dir[file_name] = data_table\n",
    "    # \n",
    "    #     print(\"Data for file:\", file_name)\n",
    "    #     print(note_dir[file_name][:4])\n",
    "\n",
    "    # return qcm_dir, note_dir\n",
    "    return qcm_dir"
   ],
   "metadata": {
    "collapsed": false,
    "ExecuteTime": {
     "end_time": "2024-01-02T13:08:09.011020500Z",
     "start_time": "2024-01-02T13:08:08.932093500Z"
    }
   },
   "id": "6d80b632a20d4dad"
  },
  {
   "cell_type": "code",
   "execution_count": 57,
   "outputs": [
    {
     "name": "stdout",
     "output_type": "stream",
     "text": [
      "==== Found 4 QCM-D and 1 note file(s) in data! ====\n",
      "{}\n"
     ]
    }
   ],
   "source": [
    "print(load_data(\"data\"))"
   ],
   "metadata": {
    "collapsed": false,
    "ExecuteTime": {
     "end_time": "2024-01-02T13:08:09.665938600Z",
     "start_time": "2024-01-02T13:08:09.639884400Z"
    }
   },
   "id": "9e8beb59891699b3"
  },
  {
   "cell_type": "code",
   "execution_count": null,
   "outputs": [],
   "source": [
    " \n",
    "  file_d = {}\n",
    "file_note = {}\n",
    "\n",
    "for file_name in original_files:\n",
    "    data_table = pd.read_csv(data_path + file_name)\n",
    "    file_d[file_name] = data_table\n",
    "    for key in file_d.keys():\n",
    "        print(key)\n",
    "        print(file_d[key].head(4))\n",
    "    print()\n",
    "    \n",
    "for file_note_name in original_note_files:\n",
    "    data_note_table = pd.read_csv(data_note_path + file_note_name)\n",
    "    file_note[file_note_name] = data_note_table    \n",
    "    for key in file_note.keys():\n",
    "        print(key)\n",
    "        print(file_note[key].head(4))\n",
    "\n",
    "# present clear output from the imported data\n",
    "for key in file_d.keys():\n",
    "    print(key)\n",
    "    print(file_d[key].head(4))\n",
    "    print()\n",
    "\n",
    "    print('loop dones')\n",
    "\n",
    "for tif_image_path in tif_files:\n",
    "        image_path = os.path.normpath(sys.path[1] + \"/\" + folder_dir + \"/\" + tif_image_path)\n",
    "        image = tiff.imread(image_path)\n",
    "        xscale, yscale, unit = None, None, None\n",
    "        with tiff.TiffFile(image_path) as tif:\n",
    "            for page in tif.pages:\n",
    "                x_scale = page.tags[\"XResolution\"].value\n",
    "                y_scale = page.tags[\"YResolution\"].value\n",
    "                unit = str(page.tags[\"ResolutionUnit\"].value)[8:]\n",
    "                xscale = x_scale[1] / x_scale[0]\n",
    "                yscale = y_scale[1] / y_scale[0]\n",
    "        dimension = len(image.shape)\n",
    "        if dimension == 3:\n",
    "            num_z_slices = image.shape[0]\n",
    "        else:\n",
    "            num_z_slices = 1\n",
    "\n",
    "        image_stack = np.asarray(image)\n",
    "        if unit == \"CENTIMETER\":\n",
    "            xscale *= 10000\n",
    "        "
   ],
   "metadata": {
    "collapsed": false
   },
   "id": "4c9a5fdf5fe605d6"
  }
 ],
 "metadata": {
  "kernelspec": {
   "display_name": "Python 3",
   "language": "python",
   "name": "python3"
  },
  "language_info": {
   "codemirror_mode": {
    "name": "ipython",
    "version": 2
   },
   "file_extension": ".py",
   "mimetype": "text/x-python",
   "name": "python",
   "nbconvert_exporter": "python",
   "pygments_lexer": "ipython2",
   "version": "2.7.6"
  }
 },
 "nbformat": 4,
 "nbformat_minor": 5
}
