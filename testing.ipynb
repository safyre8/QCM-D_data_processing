{
 "cells": [
  {
   "cell_type": "code",
   "execution_count": 201,
   "id": "initial_id",
   "metadata": {
    "collapsed": true,
    "ExecuteTime": {
     "end_time": "2024-01-04T09:10:12.387585900Z",
     "start_time": "2024-01-04T09:10:12.379000100Z"
    }
   },
   "outputs": [],
   "source": [
    "import os\n",
    "import sys\n",
    "import numpy as np\n",
    "import pandas as pd\n"
   ]
  },
  {
   "cell_type": "code",
   "execution_count": 214,
   "outputs": [],
   "source": [
    "def load_data(folder_dir):\n",
    "    all_files = os.listdir(os.path.normpath(sys.path[3] + \"/\" + folder_dir)) #check that the system path is correct\n",
    "    \n",
    "    #check the number of files with the tags \n",
    "    note_files = list(filter(lambda f: f.endswith('_notes.txt'), all_files))\n",
    "    qcm_txt_files = list(filter(lambda f: f.endswith('_slb.txt'), all_files))\n",
    "    num_note_files = len(note_files)\n",
    "    num_qcm_files = len(qcm_txt_files)\n",
    "    print(\"==== Found {} QCM-D and {} note file(s) in {} folder! ====\".format(num_qcm_files, num_note_files, folder_dir))\n",
    "\n",
    "    qcm_dir = {} #tag slb is for the support lipid bilayer \n",
    "    note_dir = {} #tag note is for the notes taken during the experiments\n",
    "\n",
    "    #goes through the files in the data folder to add them to the empty directories above\n",
    "    for file_name in all_files:\n",
    "        if file_name.endswith(\"_slb.csv\"):\n",
    "            data_table = pd.read_csv(os.path.join(folder_dir, file_name), delimiter=\",\") \n",
    "            qcm_dir[file_name] = data_table\n",
    "            for key in qcm_dir.keys():\n",
    "                print(key)\n",
    "                print(qcm_dir[key].head(1))\n",
    "            print()\n",
    "\n",
    "        if file_name.endswith(\"_notes.csv\"):\n",
    "            data_table = pd.read_csv(os.path.join(folder_dir, file_name), delimiter=\",\")\n",
    "            note_dir[file_name] = data_table\n",
    "            for key in note_dir.keys():\n",
    "                print(key)\n",
    "                print(note_dir[key].head(1))\n",
    "            print()\n",
    "\n",
    "    #checks the number of files in the directories to be able to compare to the number of files in the data folder\n",
    "    num_qcm_dir = len(qcm_dir)\n",
    "    num_note_dir = len(note_dir)\n",
    "    print(\"==== Found {} QCM-D and {} note file(s) in the directories! ====\".format(num_qcm_dir, num_note_dir))\n",
    "    return qcm_dir, note_dir\n"
   ],
   "metadata": {
    "collapsed": false,
    "ExecuteTime": {
     "end_time": "2024-01-04T09:26:42.204927700Z",
     "start_time": "2024-01-04T09:26:42.199327500Z"
    }
   },
   "id": "eec3d8d3744842ec"
  },
  {
   "cell_type": "code",
   "execution_count": 215,
   "outputs": [
    {
     "name": "stdout",
     "output_type": "stream",
     "text": [
      "==== Found 0 QCM-D and 0 note file(s) in data folder! ====\n",
      "20230718_qcm_sept_notes.csv\n",
      "   Unnamed: 0  time (min)  pump stirrer solution\n",
      "0           0           0    20    none       fb\n",
      "\n",
      "20230718_qcm_sept_slb.csv\n",
      "   Unnamed: 0  Time_1 [s]     f1_1 [Hz]  D1_1 [ppm]     f3_1 [Hz]  D3_1 [ppm]  \\\n",
      "0           0    0.216997  4.955102e+06  356.316176  1.484775e+07  177.763463   \n",
      "\n",
      "      f5_1 [Hz]  D5_1 [ppm]     f7_1 [Hz]  D7_1 [ppm]  ...     f5_4 [Hz]  \\\n",
      "0  2.474229e+07  136.374282  3.463544e+07  111.583842  ...  2.474404e+07   \n",
      "\n",
      "   D5_4 [ppm]     f7_4 [Hz]  D7_4 [ppm]     f9_4 [Hz]  D9_4 [ppm]  \\\n",
      "0  135.566046  3.463789e+07  111.140838  4.453265e+07   99.470117   \n",
      "\n",
      "     f11_4 [Hz]  D11_4 [ppm]    f13_4 [Hz]  D13_4 [ppm]  \n",
      "0  5.442725e+07     90.99574  6.432258e+07     84.50777  \n",
      "\n",
      "[1 rows x 61 columns]\n",
      "\n",
      "==== Found 1 QCM-D and 1 note file(s) in the directories! ====\n",
      "({'20230718_qcm_sept_slb.csv':       Unnamed: 0    Time_1 [s]     f1_1 [Hz]  D1_1 [ppm]     f3_1 [Hz]  \\\n",
      "0              0      0.216997  4.955102e+06  356.316176  1.484775e+07   \n",
      "1              1      1.729103  4.955102e+06  356.336305  1.484775e+07   \n",
      "2              2      3.370784  4.955102e+06  356.295548  1.484775e+07   \n",
      "3              3      5.273353  4.955102e+06  356.289757  1.484775e+07   \n",
      "4              4      7.417136  4.955102e+06  356.296680  1.484775e+07   \n",
      "...          ...           ...           ...         ...           ...   \n",
      "9337        9337  18494.308498  4.955070e+06  361.564677  1.484767e+07   \n",
      "9338        9338  18496.279786  4.955070e+06  361.571428  1.484767e+07   \n",
      "9339        9339  18498.234589  4.955069e+06  361.605947  1.484767e+07   \n",
      "9340        9340  18500.395085  4.955069e+06  361.584042  1.484767e+07   \n",
      "9341        9341  18502.246921  4.955069e+06  361.613670  1.484767e+07   \n",
      "\n",
      "      D3_1 [ppm]     f5_1 [Hz]  D5_1 [ppm]     f7_1 [Hz]  D7_1 [ppm]  ...  \\\n",
      "0     177.763463  2.474229e+07  136.374282  3.463544e+07  111.583842  ...   \n",
      "1     177.766792  2.474229e+07  136.330911  3.463544e+07  111.608839  ...   \n",
      "2     177.820604  2.474229e+07  136.358563  3.463544e+07  111.651465  ...   \n",
      "3     177.802249  2.474229e+07  136.384499  3.463544e+07  111.625735  ...   \n",
      "4     177.794774  2.474229e+07  136.370432  3.463544e+07  111.554713  ...   \n",
      "...          ...           ...         ...           ...         ...  ...   \n",
      "9337  179.450108  2.474215e+07  138.132795  3.463526e+07  112.935594  ...   \n",
      "9338  179.422665  2.474215e+07  138.057634  3.463526e+07  112.921299  ...   \n",
      "9339  179.425415  2.474215e+07  138.152295  3.463526e+07  112.947526  ...   \n",
      "9340  179.410333  2.474215e+07  138.133736  3.463526e+07  112.943248  ...   \n",
      "9341  179.416492  2.474215e+07  138.106987  3.463526e+07  112.936367  ...   \n",
      "\n",
      "         f5_4 [Hz]  D5_4 [ppm]     f7_4 [Hz]  D7_4 [ppm]     f9_4 [Hz]  \\\n",
      "0     2.474404e+07  135.566046  3.463789e+07  111.140838  4.453265e+07   \n",
      "1     2.474404e+07  135.546277  3.463789e+07  111.127628  4.453265e+07   \n",
      "2     2.474404e+07  135.614401  3.463789e+07  111.157364  4.453265e+07   \n",
      "3     2.474404e+07  135.521827  3.463789e+07  111.150533  4.453265e+07   \n",
      "4     2.474404e+07  135.487747  3.463789e+07  111.124312  4.453265e+07   \n",
      "...            ...         ...           ...         ...           ...   \n",
      "9337  2.474376e+07  140.209418  3.463753e+07  116.073688  4.453220e+07   \n",
      "9338  2.474376e+07  140.281824  3.463753e+07  116.083389  4.453220e+07   \n",
      "9339  2.474376e+07  140.211861  3.463753e+07  116.047308  4.453220e+07   \n",
      "9340  2.474376e+07  140.253402  3.463753e+07  116.077253  4.453220e+07   \n",
      "9341           NaN         NaN           NaN         NaN           NaN   \n",
      "\n",
      "      D9_4 [ppm]    f11_4 [Hz]  D11_4 [ppm]    f13_4 [Hz]  D13_4 [ppm]  \n",
      "0      99.470117  5.442725e+07    90.995740  6.432258e+07    84.507770  \n",
      "1      99.471572  5.442724e+07    91.048026  6.432256e+07    84.486181  \n",
      "2      99.477243  5.442724e+07    91.003132  6.432257e+07    84.772682  \n",
      "3      99.464350  5.442724e+07    91.013164  6.432257e+07    84.455978  \n",
      "4      99.455772  5.442724e+07    90.989754  6.432257e+07    84.683528  \n",
      "...          ...           ...          ...           ...          ...  \n",
      "9337  104.387753  5.442671e+07    95.648620  6.432196e+07    89.418750  \n",
      "9338  104.371270  5.442671e+07    95.679311  6.432195e+07    89.088297  \n",
      "9339  104.386209  5.442671e+07    95.774394  6.432196e+07    89.208981  \n",
      "9340  104.357580  5.442671e+07    95.681847  6.432196e+07    89.021684  \n",
      "9341         NaN           NaN          NaN           NaN          NaN  \n",
      "\n",
      "[9342 rows x 61 columns]}, {'20230718_qcm_sept_notes.csv':    Unnamed: 0  time (min)  pump stirrer  solution\n",
      "0           0           0    20    none        fb\n",
      "1           1          10    20    none      naci\n",
      "2           2          35    20    none       suv\n",
      "3           3          60    20    none      naci\n",
      "4           4          70    20    none        fb\n",
      "5           5         175    20    none  SEPT_add\n",
      "6           6         207    20    none   fb_wash\n",
      "7           7         260    20    none        sb})\n"
     ]
    }
   ],
   "source": [
    "print(load_data(\"data\"))"
   ],
   "metadata": {
    "collapsed": false,
    "ExecuteTime": {
     "end_time": "2024-01-04T09:26:42.534347100Z",
     "start_time": "2024-01-04T09:26:42.417761900Z"
    }
   },
   "id": "9e8beb59891699b3"
  },
  {
   "cell_type": "code",
   "execution_count": 216,
   "outputs": [
    {
     "name": "stdout",
     "output_type": "stream",
     "text": [
      "==== Found 0 QCM-D and 0 note file(s) in data folder! ====\n",
      "20230718_qcm_sept_notes.csv\n",
      "   Unnamed: 0  time (min)  pump stirrer solution\n",
      "0           0           0    20    none       fb\n",
      "\n",
      "20230718_qcm_sept_slb.csv\n",
      "   Unnamed: 0  Time_1 [s]     f1_1 [Hz]  D1_1 [ppm]     f3_1 [Hz]  D3_1 [ppm]  \\\n",
      "0           0    0.216997  4.955102e+06  356.316176  1.484775e+07  177.763463   \n",
      "\n",
      "      f5_1 [Hz]  D5_1 [ppm]     f7_1 [Hz]  D7_1 [ppm]  ...     f5_4 [Hz]  \\\n",
      "0  2.474229e+07  136.374282  3.463544e+07  111.583842  ...  2.474404e+07   \n",
      "\n",
      "   D5_4 [ppm]     f7_4 [Hz]  D7_4 [ppm]     f9_4 [Hz]  D9_4 [ppm]  \\\n",
      "0  135.566046  3.463789e+07  111.140838  4.453265e+07   99.470117   \n",
      "\n",
      "     f11_4 [Hz]  D11_4 [ppm]    f13_4 [Hz]  D13_4 [ppm]  \n",
      "0  5.442725e+07     90.99574  6.432258e+07     84.50777  \n",
      "\n",
      "[1 rows x 61 columns]\n",
      "\n",
      "==== Found 1 QCM-D and 1 note file(s) in the directories! ====\n"
     ]
    }
   ],
   "source": [
    "qcm_dir, note_dir = load_data(\"data\")"
   ],
   "metadata": {
    "collapsed": false,
    "ExecuteTime": {
     "end_time": "2024-01-04T09:27:03.297387200Z",
     "start_time": "2024-01-04T09:27:03.199248900Z"
    }
   },
   "id": "a93b01573caf98ef"
  },
  {
   "cell_type": "code",
   "execution_count": 233,
   "outputs": [
    {
     "name": "stdout",
     "output_type": "stream",
     "text": [
      "        Time_1 [s]     f5_1 [Hz]  D5_1 [ppm]\n",
      "0         0.216997  2.474229e+07  136.374282\n",
      "1         1.729103  2.474229e+07  136.330911\n",
      "2         3.370784  2.474229e+07  136.358563\n",
      "3         5.273353  2.474229e+07  136.384499\n",
      "4         7.417136  2.474229e+07  136.370432\n",
      "...            ...           ...         ...\n",
      "9337  18494.308498  2.474215e+07  138.132795\n",
      "9338  18496.279786  2.474215e+07  138.057634\n",
      "9339  18498.234589  2.474215e+07  138.152295\n",
      "9340  18500.395085  2.474215e+07  138.133736\n",
      "9341  18502.246921  2.474215e+07  138.106987\n",
      "\n",
      "[9342 rows x 3 columns]\n"
     ]
    }
   ],
   "source": [
    "def filter_data(dataset: pd.DataFrame, overtone: int, chamber: int) -> pd.DataFrame:\n",
    "    \"\"\"Takes a csv file to seperate out the time(Time), frequency (f), and dissipation (D) for a chamber (c) at the Harmonic of interest (n) to give an array with these columns\"\"\"\n",
    "    \n",
    "    n = overtone\n",
    "    c = chamber\n",
    "    desired_columns = [\n",
    "        f\"Time_{c} [s]\",\n",
    "        f\"f{n}_{c} [Hz]\",\n",
    "        f\"D{n}_{c} [ppm]\"\n",
    "    ]\n",
    "    filtered_table = dataset[desired_columns]    \n",
    "    return filtered_table\n",
    "\n",
    "# # can filter out an overtone, chamber for dataset\n",
    "# # TODO: this only works for chamber 1\n",
    "# # set the filtered data for overtone and channel to the working data for math (dm). Overtones are only odd. \n",
    "working_file = qcm_dir['20230718_qcm_sept_slb.csv']\n",
    "filter_c = filter_data(working_file, 5, 1)\n",
    "print(filter_c)\n"
   ],
   "metadata": {
    "collapsed": false,
    "ExecuteTime": {
     "end_time": "2024-01-04T09:34:45.688152700Z",
     "start_time": "2024-01-04T09:34:45.682007200Z"
    }
   },
   "id": "b0309cb4b725ee9e"
  },
  {
   "cell_type": "code",
   "execution_count": 236,
   "outputs": [
    {
     "name": "stdout",
     "output_type": "stream",
     "text": [
      "      time (min)     f (Hz)   d (ppm)\n",
      "0           0.00  -0.631021  0.053867\n",
      "1           0.03  -0.553655  0.010496\n",
      "2           0.06  -0.556431  0.038148\n",
      "3           0.09  -0.543055  0.064085\n",
      "4           0.12  -0.643289  0.050017\n",
      "...          ...        ...       ...\n",
      "9337      308.24 -28.457011  1.812380\n",
      "9338      308.27 -28.387018  1.737219\n",
      "9339      308.30 -28.459543  1.831880\n",
      "9340      308.34 -28.467026  1.813322\n",
      "9341      308.37 -28.455242  1.786572\n",
      "\n",
      "[9342 rows x 3 columns]\n"
     ]
    }
   ],
   "source": [
    "def ave_slb_baseline(dataset: pd.DataFrame, t_base_s: float = 6., t_base_e: float = 8.):\n",
    "    \"\"\"Takes the filtered dataset to convert the time from seconds to minutes and average the frequency and dissipation from the SLB baseline.\"\"\"\n",
    "    \n",
    "    time_sec = dataset.iloc[:, 0] #takes the first row from the filter_data, which is always time\n",
    "    time_min = (time_sec / 60).round(2) #convert the time into minutes\n",
    "    #set a range to find the average to normalize the frequency and dissipation channels across the entire dataset\n",
    "    rows_in_range = (time_min >= t_base_s) & (time_min <= t_base_e)\n",
    "    data_in_range = dataset.loc[rows_in_range]\n",
    "    \n",
    "    #TODO: Set a if and else statement for if the data is properly selected to find the averages/no data if found\n",
    "    # if data_in_range[]:\n",
    "   \n",
    "    f_avg = data_in_range.iloc[:, 1].mean()  # averaging over frequency\n",
    "    d_avg = data_in_range.iloc[:, 2].mean()  # averaging over dissipation\n",
    "       # else:\n",
    "    # #     print (\"zero rows in range\")\n",
    "    norm_f = (dataset.iloc[:, 1] - f_avg) / 5 # 5 is the scaling for overtone 5\n",
    "    norm_d = dataset.iloc[:, 2] - d_avg\n",
    "    \n",
    "    norm_table = pd.DataFrame(data={\n",
    "        'time (min)': time_min,\n",
    "        'f (Hz)': norm_f,\n",
    "        'd (ppm)': norm_d\n",
    "    })\n",
    "\n",
    "    return norm_table\n",
    "\n",
    "# # normalize the dataset that was selected for \n",
    "# \n",
    "# normalized_data(filter_data(file_d[\"n_20221006_slb.csv\"], 5, 1))\n",
    "# norm_data = normalized_data(filter_c)\n",
    "print(ave_slb_baseline(filter_data(qcm_dir['20230718_qcm_sept_slb.csv'], 5, 1)))\n"
   ],
   "metadata": {
    "collapsed": false,
    "ExecuteTime": {
     "end_time": "2024-01-04T09:38:05.267359400Z",
     "start_time": "2024-01-04T09:38:05.250211100Z"
    }
   },
   "id": "3d34de64c47253cd"
  },
  {
   "cell_type": "code",
   "execution_count": null,
   "outputs": [],
   "source": [],
   "metadata": {
    "collapsed": false
   },
   "id": "185fd6440d2fbb70"
  }
 ],
 "metadata": {
  "kernelspec": {
   "display_name": "Python 3",
   "language": "python",
   "name": "python3"
  },
  "language_info": {
   "codemirror_mode": {
    "name": "ipython",
    "version": 2
   },
   "file_extension": ".py",
   "mimetype": "text/x-python",
   "name": "python",
   "nbconvert_exporter": "python",
   "pygments_lexer": "ipython2",
   "version": "2.7.6"
  }
 },
 "nbformat": 4,
 "nbformat_minor": 5
}
